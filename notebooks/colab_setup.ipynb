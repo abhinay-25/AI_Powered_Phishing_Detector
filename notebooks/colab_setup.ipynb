{
 "cells": [
  {
   "cell_type": "markdown",
   "id": "29ab9d38",
   "metadata": {},
   "source": [
    "# 🧠 Step 1: Generate Project Structure (Python)\n",
    "Create the project folders and essential files using Python."
   ]
  },
  {
   "cell_type": "code",
   "execution_count": null,
   "id": "163b56cb",
   "metadata": {},
   "outputs": [],
   "source": [
    "import os\n",
    "project = 'AI_Powered_Phishing_Detector'\n",
    "dirs = ['data', 'notebooks', 'models', 'src', 'streamlit_app']\n",
    "for d in dirs:\n",
    "    os.makedirs(os.path.join(project, d), exist_ok=True)\n",
    "# package marker\n",
    "open(os.path.join(project, 'src', '__init__.py'), 'a').close()\n",
    "# optional README\n",
    "with open(os.path.join(project, 'README.md'), 'w', encoding='utf-8') as f:\n",
    "    f.write('# AI_Powered_Phishing_Detector\\n')\n",
    "print('Scaffold created at:', os.path.abspath(project))"
   ]
  },
  {
   "cell_type": "markdown",
   "id": "9a37c3a5",
   "metadata": {},
   "source": [
    "# 🧠 Step 1: Write .gitignore and requirements.txt (Python)\n",
    "Write `.gitignore` for Python and `requirements.txt` with specified libraries."
   ]
  },
  {
   "cell_type": "code",
   "execution_count": null,
   "id": "dfc91bb7",
   "metadata": {},
   "outputs": [],
   "source": [
    "from textwrap import dedent\n",
    "root = 'AI_Powered_Phishing_Detector'\n",
    "# .gitignore\n",
    "ignore = dedent('''\n",
    "# Byte-compiled / optimized / DLL files\n",
    "__pycache__/\n",
    "*.py[cod]\n",
    "*.so\n",
    "\n",
    "# Virtual environments\n",
    "venv/\n",
    ".env\n",
    ".venv/\n",
    "\n",
    "# Distribution / packaging\n",
    "build/\n",
    "dist/\n",
    "*.egg-info/\n",
    "\n",
    "# Jupyter\n",
    ".ipynb_checkpoints/\n",
    "\n",
    "# Tools & IDE\n",
    ".vscode/\n",
    ".idea/\n",
    ".mypy_cache/\n",
    ".pytest_cache/\n",
    ".coverage\n",
    ".python-version\n",
    ".DS_Store\n",
    "''').lstrip()\n",
    "with open(os.path.join(root, '.gitignore'), 'w', encoding='utf-8') as f:\n",
    "    f.write(ignore)\n",
    "# requirements.txt\n",
    "reqs = dedent('''\n",
    "pandas\n",
    "numpy\n",
    "scikit-learn\n",
    "matplotlib\n",
    "seaborn\n",
    "xgboost\n",
    "streamlit\n",
    "flask\n",
    "joblib\n",
    "''').lstrip()\n",
    "with open(os.path.join(root, 'requirements.txt'), 'w', encoding='utf-8') as f:\n",
    "    f.write(reqs)\n",
    "print('Wrote .gitignore and requirements.txt')"
   ]
  },
  {
   "cell_type": "markdown",
   "id": "7ece402a",
   "metadata": {},
   "source": [
    "# 🧠 Step 1: Initialize Git and Push to GitHub (Terminal)\n",
    "Run in VS Code Integrated Terminal from the project root."
   ]
  },
  {
   "cell_type": "markdown",
   "id": "97cec3fc",
   "metadata": {},
   "source": [
    "```\n",
    "cd AI_Powered_Phishing_Detector\n",
    "git init\n",
    "git add .\n",
    "git commit -m 'Initial commit: scaffold AI_Powered_Phishing_Detector'\n",
    "# set default branch\n",
    "git branch -M main\n",
    "# replace <your-username>\n",
    "git remote add origin https://github.com/<your-username>/AI_Powered_Phishing_Detector.git\n",
    "git push -u origin main\n",
    "```"
   ]
  },
  {
   "cell_type": "markdown",
   "id": "7a1a2c01",
   "metadata": {},
   "source": [
    "# 🧠 Step 2: Create and Activate Virtual Environment (Terminal)\n",
    "Create a venv and activate it in VS Code Integrated Terminal."
   ]
  },
  {
   "cell_type": "markdown",
   "id": "1a2c131d",
   "metadata": {},
   "source": [
    "```\n",
    "# Create venv\n",
    "python -m venv venv\n",
    "\n",
    "# Activate (choose one)\n",
    "# Windows (PowerShell)\n",
    "venv\\Scripts\\Activate\n",
    "# Windows (cmd)\n",
    "venv\\Scripts\\activate.bat\n",
    "# macOS/Linux (bash/zsh)\n",
    "source venv/bin/activate\n",
    "```"
   ]
  },
  {
   "cell_type": "markdown",
   "id": "3db440fe",
   "metadata": {},
   "source": [
    "# 🧠 Step 2: Install and Verify Dependencies (Terminal/Python)\n",
    "Install packages and verify imports and versions."
   ]
  },
  {
   "cell_type": "markdown",
   "id": "5f6aad0f",
   "metadata": {},
   "source": [
    "```\n",
    "pip install -r requirements.txt\n",
    "pip list\n",
    "```"
   ]
  },
  {
   "cell_type": "code",
   "execution_count": null,
   "id": "aabaac95",
   "metadata": {},
   "outputs": [],
   "source": [
    "import sys\n",
    "import pandas, numpy, sklearn, matplotlib, seaborn, xgboost, streamlit, flask, joblib\n",
    "print('Python', sys.version)\n",
    "print('pandas', pandas.__version__)\n",
    "print('numpy', numpy.__version__)\n",
    "print('scikit-learn', sklearn.__version__)\n",
    "print('matplotlib', matplotlib.__version__)\n",
    "print('seaborn', seaborn.__version__)\n",
    "print('xgboost', xgboost.__version__)\n",
    "print('streamlit', streamlit.__version__)\n",
    "print('flask', flask.__version__)\n",
    "print('joblib', joblib.__version__)\n",
    "print('✅ Environment ready!')"
   ]
  },
  {
   "cell_type": "markdown",
   "id": "7989a92e",
   "metadata": {},
   "source": [
    "# 🧠 Step 4: Clone Repository in Google Colab (Colab)\n",
    "Clone the GitHub repo into Colab and list files."
   ]
  },
  {
   "cell_type": "code",
   "execution_count": null,
   "id": "d5961010",
   "metadata": {},
   "outputs": [],
   "source": [
    "# Replace <your-username> with your GitHub username\n",
    "repo_url = 'https://github.com/<your-username>/AI_Powered_Phishing_Detector.git'\n",
    "\n",
    "# Clone and list\n",
    "import os\n",
    "if not os.path.exists('AI_Powered_Phishing_Detector'):\n",
    "    import subprocess\n",
    "    subprocess.run(['git', 'clone', repo_url], check=False)\n",
    "%cd AI_Powered_Phishing_Detector\n",
    "!ls -la"
   ]
  },
  {
   "cell_type": "markdown",
   "id": "3f3b4d81",
   "metadata": {},
   "source": [
    "# 🧠 Step 5: Configure GPU and Verify Libraries in Colab (Colab)\n",
    "Check GPU availability, install dependencies, and verify."
   ]
  },
  {
   "cell_type": "code",
   "execution_count": null,
   "id": "9869f3ce",
   "metadata": {},
   "outputs": [],
   "source": [
    "# GPU check\n",
    "!nvidia-smi\n",
    "\n",
    "# Ensure libs are installed (quiet)\n",
    "!pip install -q pandas numpy scikit-learn matplotlib seaborn xgboost joblib streamlit flask\n",
    "\n",
    "# Verify imports and versions\n",
    "import pandas, numpy, sklearn, matplotlib, seaborn, xgboost, joblib, flask, streamlit\n",
    "print('pandas', pandas.__version__)\n",
    "print('numpy', numpy.__version__)\n",
    "print('scikit-learn', sklearn.__version__)\n",
    "print('xgboost', xgboost.__version__)\n",
    "print('✅ Colab environment ready!')"
   ]
  },
  {
   "cell_type": "markdown",
   "id": "11e7dadd",
   "metadata": {},
   "source": [
    "# 🧠 Step 6: Generate Copilot–Colab Workflow Guide (Python)\n",
    "Write a concise workflow guide to the repo for future reference."
   ]
  },
  {
   "cell_type": "code",
   "execution_count": null,
   "id": "ae357f81",
   "metadata": {},
   "outputs": [],
   "source": [
    "from textwrap import dedent\n",
    "import os\n",
    "path = 'AI_Powered_Phishing_Detector/WORKFLOW.md'\n",
    "guide = dedent('''\n",
    "# Workflow Guide\n",
    "1. Write / edit code in VS Code with Copilot.\n",
    "2. Commit and push changes:\n",
    "   git add .\n",
    "   git commit -m 'Update feature extraction logic'\n",
    "   git push origin main\n",
    "3. In Colab, pull latest and run:\n",
    "   !git pull origin main\n",
    "   # Open notebooks and train models (GPU optional)\n",
    "''').lstrip()\n",
    "os.makedirs(os.path.dirname(path), exist_ok=True)\n",
    "with open(path, 'w', encoding='utf-8') as f:\n",
    "    f.write(guide)\n",
    "print('Wrote', path)"
   ]
  }
 ],
 "metadata": {
  "language_info": {
   "name": "python"
  }
 },
 "nbformat": 4,
 "nbformat_minor": 5
}
