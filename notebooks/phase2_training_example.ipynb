{
 "cells": [
  {
   "cell_type": "markdown",
   "id": "13784b92",
   "metadata": {},
   "source": [
    "# Phase 2: Model Training and Evaluation (Notebook)\n",
    "\n",
    "This notebook mirrors the training script in `src/train_models.py`. If you prefer a notebook, run the cells below."
   ]
  },
  {
   "cell_type": "code",
   "execution_count": null,
   "id": "86035b28",
   "metadata": {},
   "outputs": [],
   "source": [
    "# Imports\n",
    "import numpy as np\n",
    "import pandas as pd\n",
    "from sklearn.model_selection import train_test_split\n",
    "from sklearn.preprocessing import StandardScaler\n",
    "from sklearn.linear_model import LogisticRegression\n",
    "from sklearn.tree import DecisionTreeClassifier\n",
    "from sklearn.ensemble import RandomForestClassifier\n",
    "from sklearn.svm import SVC\n",
    "from xgboost import XGBClassifier\n",
    "from sklearn.metrics import accuracy_score, confusion_matrix, classification_report, f1_score\n",
    "import joblib\n"
   ]
  },
  {
   "cell_type": "code",
   "execution_count": null,
   "id": "4f33a0e4",
   "metadata": {},
   "outputs": [],
   "source": [
    "# Load data (adjust path as needed)\n",
    "CSV_PATH = '../data/cleaned_phishing_dataset.csv'\n",
    "data = pd.read_csv(CSV_PATH)\n",
    "display(data.head())\n"
   ]
  },
  {
   "cell_type": "code",
   "execution_count": null,
   "id": "ce95afed",
   "metadata": {},
   "outputs": [],
   "source": [
    "# Split features/target and train-test split\n",
    "X = data.drop('label', axis=1)\n",
    "y = data['label']\n",
    "X_train, X_test, y_train, y_test = train_test_split(X, y, test_size=0.2, random_state=42, stratify=y)\n",
    "\n",
    "# Feature scaling\n",
    "scaler = StandardScaler()\n",
    "X_train = scaler.fit_transform(X_train)\n",
    "X_test = scaler.transform(X_test)\n"
   ]
  },
  {
   "cell_type": "code",
   "execution_count": null,
   "id": "4ca24671",
   "metadata": {},
   "outputs": [],
   "source": [
    "# Train and evaluate multiple models\n",
    "models = {\n",
    "    \"Logistic Regression\": LogisticRegression(max_iter=1000),\n",
    "    \"Decision Tree\": DecisionTreeClassifier(random_state=42),\n",
    "    \"Random Forest\": RandomForestClassifier(n_estimators=300, random_state=42, n_jobs=-1),\n",
    "    \"SVM\": SVC(kernel='rbf', probability=True, random_state=42),\n",
    "    \"XGBoost\": XGBClassifier(use_label_encoder=False, eval_metric='logloss', n_estimators=300,\n",
    "                              learning_rate=0.1, max_depth=6, subsample=0.9, colsample_bytree=0.9, n_jobs=-1)\n",
    "}\n",
    "\n",
    "best_name, best_model, best_f1 = None, None, -1\n",
    "for name, model in models.items():\n",
    "    model.fit(X_train, y_train)\n",
    "    y_pred = model.predict(X_test)\n",
    "    acc = accuracy_score(y_test, y_pred)\n",
    "    f1 = f1_score(y_test, y_pred, average='weighted')\n",
    "    print(f\"=== {name} ===\")\n",
    "    print(\"Accuracy:\", acc)\n",
    "    print(\"Confusion Matrix:\\n\", confusion_matrix(y_test, y_pred))\n",
    "    print(\"Classification Report:\\n\", classification_report(y_test, y_pred))\n",
    "    print(\"\\n\" + \"-\"*60 + \"\\n\")\n",
    "    if f1 > best_f1:\n",
    "        best_name, best_model, best_f1 = name, model, f1\n",
    "\n",
    "print(\"Best model:\", best_name, \"with weighted F1:\", best_f1)\n"
   ]
  },
  {
   "cell_type": "code",
   "execution_count": null,
   "id": "d2bb96be",
   "metadata": {},
   "outputs": [],
   "source": [
    "# Save best model and scaler\n",
    "import os\n",
    "os.makedirs('../models', exist_ok=True)\n",
    "joblib.dump(best_model, '../models/phishing_detector_model.pkl')\n",
    "joblib.dump(scaler, '../models/scaler.pkl')\n",
    "print('Model and scaler saved to ../models')"
   ]
  }
 ],
 "metadata": {
  "language_info": {
   "name": "python"
  }
 },
 "nbformat": 4,
 "nbformat_minor": 5
}
